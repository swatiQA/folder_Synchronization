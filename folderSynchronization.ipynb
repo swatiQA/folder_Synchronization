{
 "cells": [
  {
   "cell_type": "code",
   "execution_count": 27,
   "id": "580c8356-7553-41b0-8d17-51157f247798",
   "metadata": {},
   "outputs": [
    {
     "name": "stdout",
     "output_type": "stream",
     "text": [
      "Copied File: TestDirectory1\\node1.txt -> TestDirectory2\\node1.txt\n",
      "Copied File: TestDirectory1\\node2.txt -> TestDirectory2\\node2.txt\n",
      "Copied folders:TestDirectory1\\test1 -> TestDirectory2\\test1\n",
      "Copied File: TestDirectory1\\test1\\test2.txt -> TestDirectory2\\test1\\test2.txt\n",
      "Total files copied: 3\n",
      "Total folder copied:1\n"
     ]
    }
   ],
   "source": [
    "\n",
    "import os\n",
    "import shutil\n",
    "import logging\n",
    "import sys\n",
    "\n",
    "logging.basicConfig(level=logging.DEBUG,filename = \"synchronize.log\",filemode =\"a\",format='%(asctime)s %(message)s')\n",
    "\n",
    "file_copied_count = 0\n",
    "folder_copied_count = 0\n",
    "\n",
    "def folders_Sync(source_dir, destination_dir):\n",
    "    global file_copied_count\n",
    "    global folder_copied_count\n",
    "    # source and destination directories should exist\n",
    "    if not os.path.exists(source_dir) or not os.path.exists(destination_dir):\n",
    "        print(\"Source or destination directory does not exist.\")\n",
    "        return\n",
    "\n",
    "    # List files and subdirectories in the source directory\n",
    "    source_list = os.listdir(source_dir)\n",
    "\n",
    "    for item in source_list:\n",
    "            source_item = os.path.join(source_dir, item)\n",
    "            destination_item = os.path.join(destination_dir, item)\n",
    "\n",
    "        # If copy file in destination if it do not matches from source\n",
    "            if os.path.isfile(source_item):\n",
    "                if not os.path.exists(destination_item) or (os.path.exists(destination_item) and\n",
    "                                                        os.path.getsize(source_item) != os.path.getsize(destination_item)):\n",
    "                    shutil.copy2(source_item, destination_item)\n",
    "                    file_copied_count =  file_copied_count + 1\n",
    "                    print(f\"Copied File: {source_item} -> {destination_item}\")\n",
    "                    logging.info(f\"Copied File: {source_item} -> {destination_item}\")\n",
    "\n",
    "            # Recursive search in folders for files\n",
    "            elif os.path.isdir(source_item):\n",
    "                if not os.path.exists(destination_item):\n",
    "                    os.makedirs(destination_item)\n",
    "                    folder_copied_count = folder_copied_count + 1\n",
    "                    print(f\"Copied folders:{source_item} -> {destination_item}\")\n",
    "                    logging.info(f\"Copied folders:{source_item} -> {destination_item}\")\n",
    "                    folders_Sync(source_item, destination_item)\n",
    "\n",
    "        \n",
    "\n",
    "    # Remove files from the destination that don't exist in the source\n",
    "    destination_list = os.listdir(destination_dir)\n",
    "    for item in destination_list:\n",
    "        destination_item = os.path.join(destination_dir, item)\n",
    "        source_item = os.path.join(source_dir, item)\n",
    "        if not os.path.exists(source_item):\n",
    "            if os.path.isfile(destination_item):\n",
    "                os.remove(destination_item)\n",
    "                print(f\"Deleted file: {destination_item}\")\n",
    "                logging.debug(f\"Deleted file: {destination_item}\")\n",
    "            elif os.path.isdir(destination_item):\n",
    "                shutil.rmtree(destination_item)\n",
    "                print(f\"Deleted folder: {destination_item}\")\n",
    "                logging.debug(f\"Deleted folder: {destination_item}\")\n",
    "    return file_copied_count, folder_copied_count\n",
    "\n",
    "if __name__ == \"__main__\":\n",
    "    source_directory = \"TestDirectory1\" # source_directory = sys.argv[1]\n",
    "    destination_directory = \"TestDirectory2\" #destination_directory = sys.argv[2]\n",
    "  \n",
    "    file_copied_count,folder_copied_count = folders_Sync(source_directory, destination_directory)\n",
    "    print(f\"Total files copied: {file_copied_count}\")\n",
    "    print(f\"Total folder copied:{folder_copied_count}\")\n",
    "    logging.info(f\"Total files copied: {file_copied_count} \\n Total folders copied: {folder_copied_count}\")\n",
    "    \n",
    "\n",
    " \n",
    " \n",
    " "
   ]
  },
  {
   "cell_type": "code",
   "execution_count": null,
   "id": "fc253159-d540-4b44-aa0c-ece8397e0193",
   "metadata": {},
   "outputs": [],
   "source": []
  },
  {
   "cell_type": "code",
   "execution_count": null,
   "id": "931ddba4-2e52-4a28-b0d4-8cacc70fcf8f",
   "metadata": {},
   "outputs": [],
   "source": []
  },
  {
   "cell_type": "code",
   "execution_count": null,
   "id": "13d15dd9-2e30-42b5-abe5-3f6f9fc95d2e",
   "metadata": {},
   "outputs": [],
   "source": []
  },
  {
   "cell_type": "code",
   "execution_count": null,
   "id": "11cdb588-d43f-43ae-9f0d-8e16a90dfbe8",
   "metadata": {},
   "outputs": [],
   "source": []
  }
 ],
 "metadata": {
  "kernelspec": {
   "display_name": "Python 3 (ipykernel)",
   "language": "python",
   "name": "python3"
  },
  "language_info": {
   "codemirror_mode": {
    "name": "ipython",
    "version": 3
   },
   "file_extension": ".py",
   "mimetype": "text/x-python",
   "name": "python",
   "nbconvert_exporter": "python",
   "pygments_lexer": "ipython3",
   "version": "3.12.0"
  }
 },
 "nbformat": 4,
 "nbformat_minor": 5
}
